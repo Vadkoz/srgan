{
 "cells": [
  {
   "cell_type": "code",
   "execution_count": 25,
   "metadata": {},
   "outputs": [],
   "source": [
    "import math\n",
    "import os\n",
    "from os import listdir\n",
    "from os.path import join\n",
    "import numpy as np\n",
    "import torch\n",
    "from torch import nn\n",
    "from PIL import Image\n",
    "import torchvision.models as models\n",
    "import torchvision.transforms as transforms\n",
    "from torch.autograd import Variable\n",
    "import torch.optim as optim\n",
    "import torchvision.utils as utils\n",
    "from torch.utils.data import DataLoader\n",
    "from tqdm import tqdm\n",
    "import pytorch_ssim\n",
    "from torchvision.transforms import Compose, RandomCrop, ToTensor, ToPILImage, CenterCrop, Resize\n",
    "from torchvision.transforms import InterpolationMode\n",
    "\n",
    "from torch.utils.data.dataset import Dataset\n",
    "import torchvision.utils as vutils\n",
    "import pandas as pd\n",
    "\n",
    "import warnings\n",
    "warnings.filterwarnings('ignore')"
   ]
  },
  {
   "cell_type": "code",
   "execution_count": 26,
   "metadata": {},
   "outputs": [],
   "source": [
    "device = torch.device('cuda:2')"
   ]
  },
  {
   "cell_type": "code",
   "execution_count": 27,
   "metadata": {},
   "outputs": [],
   "source": [
    "class UpsampleBLock(nn.Module):\n",
    "    def __init__(self, in_channels, up_scale):\n",
    "        super(UpsampleBLock, self).__init__()\n",
    "        self.conv = nn.Conv2d(in_channels, in_channels * up_scale ** 2, kernel_size=3, padding=1)\n",
    "        self.pixel_shuffle = nn.PixelShuffle(up_scale)\n",
    "        self.prelu = nn.PReLU()\n",
    "    def forward(self, x):\n",
    "        return self.prelu(self.pixel_shuffle(self.conv(x)))\n",
    "\n",
    "class ResidualBlock(nn.Module):\n",
    "    def __init__(self, channels=64):\n",
    "        super(ResidualBlock, self).__init__()\n",
    "        self.conv1 = nn.Conv2d(channels, channels, kernel_size=3, stride=1, padding=1, bias=False)\n",
    "        self.bn1 = nn.BatchNorm2d(channels)\n",
    "        self.prelu = nn.PReLU()\n",
    "        self.conv2 = nn.Conv2d(channels, channels, kernel_size=3, stride=1, padding=1, bias=False)\n",
    "        self.bn2 = nn.BatchNorm2d(channels)\n",
    "\n",
    "    def forward(self, x):        \n",
    "        return self.bn2(self.conv2(self.prelu(self.bn1(self.conv1(x))))) + x\n",
    "\n",
    "class Generator(nn.Module):\n",
    "    def __init__(self, scale_factor):\n",
    "        upsample_block_num = int(math.log(scale_factor, 2))\n",
    "\n",
    "        super(Generator, self).__init__()\n",
    "        self.b1 = nn.Sequential(nn.Conv2d(3, 64, kernel_size=9, padding=4), nn.PReLU())\n",
    "        self.b2 = nn.Sequential(*[ResidualBlock(64) for _ in range(16)])\n",
    "        self.b3 = nn.Sequential(nn.Conv2d(64, 64, kernel_size=3, padding=1), nn.BatchNorm2d(64))\n",
    "        self.b4 = nn.Sequential(*[UpsampleBLock(64, 2) for _ in range(upsample_block_num)])\n",
    "        self.tail = nn.Conv2d(64, 3, kernel_size=9, padding=4)\n",
    "\n",
    "    def forward(self, x):\n",
    "        start = self.b1(x)\n",
    "        end = self.b4(self.b3(self.b2(start)) + start)\n",
    "        return self.tail(end)"
   ]
  },
  {
   "cell_type": "code",
   "execution_count": 28,
   "metadata": {},
   "outputs": [],
   "source": [
    "G_dict_path = 'epochs/G_stable.pth'\n",
    "DATA_PATH = '../../SR_testing_datasets/'"
   ]
  },
  {
   "cell_type": "code",
   "execution_count": 29,
   "metadata": {},
   "outputs": [
    {
     "data": {
      "text/plain": [
       "['../../SR_testing_datasets/Set5',\n",
       " '../../SR_testing_datasets/BSDS100',\n",
       " '../../SR_testing_datasets/Set14']"
      ]
     },
     "execution_count": 29,
     "metadata": {},
     "output_type": "execute_result"
    }
   ],
   "source": [
    "datasets = [DATA_PATH + i for i in ['Set5', 'BSDS100', 'Set14']]\n",
    "datasets"
   ]
  },
  {
   "cell_type": "code",
   "execution_count": 30,
   "metadata": {},
   "outputs": [
    {
     "name": "stdout",
     "output_type": "stream",
     "text": [
      "\n"
     ]
    }
   ],
   "source": [
    "G = Generator(4)\n",
    "G.load_state_dict(torch.load(G_dict_path))\n",
    "G.to(device)\n",
    "G.eval()\n",
    "print()"
   ]
  },
  {
   "cell_type": "code",
   "execution_count": 51,
   "metadata": {},
   "outputs": [
    {
     "name": "stdout",
     "output_type": "stream",
     "text": [
      "Set5\n",
      "SSIM:  0.7849\n",
      "PSNR:  27.1157\n",
      "______________\n",
      "BSDS100\n",
      "SSIM:  0.6411\n",
      "PSNR:  23.9407\n",
      "______________\n",
      "Set14\n",
      "SSIM:  0.6557\n",
      "PSNR:  23.9995\n",
      "______________\n"
     ]
    }
   ],
   "source": [
    "for dataset in datasets:\n",
    "    ssim = 0\n",
    "    psnr = 0\n",
    "    for img in os.listdir(dataset):\n",
    "        hr = Image.open(dataset + '/' + img).convert(\"RGB\")\n",
    "        w = hr.size[1]\n",
    "        h = hr.size[0]\n",
    "        lr = transforms.Resize((w // 4, h // 4), InterpolationMode.BICUBIC)(hr)\n",
    "        hr = transforms.ToTensor()(hr)\n",
    "        hr = hr.unsqueeze(0).to(device)\n",
    "        lr = transforms.ToTensor()(lr)\n",
    "        lr = lr.unsqueeze(0).to(device)\n",
    "        sr = G(lr)\n",
    "        sr = transforms.Resize((w, h), InterpolationMode.BICUBIC)(sr)\n",
    "        image = torch.dstack([transforms.Resize((w, h), InterpolationMode.BICUBIC)(lr)[0], torch.ones_like(sr)[:,:,:,:20][0], sr[0], torch.ones_like(sr)[:,:,:,:20][0], hr[0]])\n",
    "        vutils.save_image(image, './results/' + dataset.split('/')[-1] + '/' + img.split('.')[0] + '.jpg')\n",
    "        ssim += pytorch_ssim.ssim(sr, hr).item()\n",
    "        psnr += 10 * math.log10((hr.max()**2) / ((sr - hr) ** 2).data.mean())\n",
    "    print(dataset.split('/')[-1])\n",
    "    print('SSIM: ', round(ssim / len(os.listdir(dataset)), 4))\n",
    "    print('PSNR: ', round(psnr / len(os.listdir(dataset)), 4))\n",
    "    print('______________')"
   ]
  },
  {
   "cell_type": "code",
   "execution_count": null,
   "metadata": {},
   "outputs": [],
   "source": [
    "Set5\n",
    "SSIM:  0.7824\n",
    "PSNR:  27.0172\n",
    "______________\n",
    "BSDS100\n",
    "SSIM:  0.6366\n",
    "PSNR:  23.8347\n",
    "______________\n",
    "Set14\n",
    "SSIM:  0.6533\n",
    "PSNR:  23.9596\n",
    "______________"
   ]
  },
  {
   "cell_type": "code",
   "execution_count": null,
   "metadata": {},
   "outputs": [],
   "source": []
  }
 ],
 "metadata": {
  "kernelspec": {
   "display_name": "Python 3",
   "language": "python",
   "name": "python3"
  },
  "language_info": {
   "codemirror_mode": {
    "name": "ipython",
    "version": 3
   },
   "file_extension": ".py",
   "mimetype": "text/x-python",
   "name": "python",
   "nbconvert_exporter": "python",
   "pygments_lexer": "ipython3",
   "version": "3.8.5"
  }
 },
 "nbformat": 4,
 "nbformat_minor": 4
}
